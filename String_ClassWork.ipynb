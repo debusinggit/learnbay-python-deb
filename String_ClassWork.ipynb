{
 "cells": [
  {
   "cell_type": "code",
   "execution_count": 1,
   "id": "536aa0da",
   "metadata": {},
   "outputs": [
    {
     "name": "stdout",
     "output_type": "stream",
     "text": [
      "Enter the value you want: 500\n"
     ]
    }
   ],
   "source": [
    "a=input(\"Enter the value you want: \")"
   ]
  },
  {
   "cell_type": "code",
   "execution_count": 2,
   "id": "a6636d26",
   "metadata": {},
   "outputs": [
    {
     "data": {
      "text/plain": [
       "'500'"
      ]
     },
     "execution_count": 2,
     "metadata": {},
     "output_type": "execute_result"
    }
   ],
   "source": [
    "a"
   ]
  },
  {
   "cell_type": "code",
   "execution_count": 3,
   "id": "9c85ebec",
   "metadata": {},
   "outputs": [
    {
     "name": "stdout",
     "output_type": "stream",
     "text": [
      "Enter the value you want: 200\n"
     ]
    }
   ],
   "source": [
    "amt_to_withdraw=int(input(\"Enter the value you want: \"))"
   ]
  },
  {
   "cell_type": "code",
   "execution_count": 4,
   "id": "abe132e3",
   "metadata": {},
   "outputs": [
    {
     "name": "stdout",
     "output_type": "stream",
     "text": [
      "100\n"
     ]
    }
   ],
   "source": [
    "print(amt_to_withdraw)"
   ]
  },
  {
   "cell_type": "code",
   "execution_count": 4,
   "id": "3eac70bb",
   "metadata": {},
   "outputs": [
    {
     "name": "stdout",
     "output_type": "stream",
     "text": [
      "Enter the value you want: 100\n"
     ]
    }
   ],
   "source": [
    "amt_to_withdraw=eval(input(\"Enter the value you want: \"))"
   ]
  },
  {
   "cell_type": "code",
   "execution_count": 5,
   "id": "5814e1b6",
   "metadata": {},
   "outputs": [
    {
     "name": "stdout",
     "output_type": "stream",
     "text": [
      "100\n"
     ]
    }
   ],
   "source": [
    "print(amt_to_withdraw)"
   ]
  },
  {
   "cell_type": "code",
   "execution_count": 6,
   "id": "5b209081",
   "metadata": {},
   "outputs": [
    {
     "name": "stdout",
     "output_type": "stream",
     "text": [
      "Enter the number you have gout out of 25: 24.5\n"
     ]
    }
   ],
   "source": [
    "num_got_out_of_25_in_exam = eval(input(\"Enter the number you have gout out of 25: \"))"
   ]
  },
  {
   "cell_type": "code",
   "execution_count": 7,
   "id": "2a313b33",
   "metadata": {},
   "outputs": [
    {
     "name": "stdout",
     "output_type": "stream",
     "text": [
      "24.5\n"
     ]
    }
   ],
   "source": [
    "print(num_got_out_of_25_in_exam)"
   ]
  },
  {
   "cell_type": "code",
   "execution_count": 8,
   "id": "e63c44f2",
   "metadata": {},
   "outputs": [
    {
     "name": "stdout",
     "output_type": "stream",
     "text": [
      "10 20 30\n"
     ]
    }
   ],
   "source": [
    "a=10\n",
    "b=20\n",
    "c=30\n",
    "print(a,b,c)"
   ]
  },
  {
   "cell_type": "code",
   "execution_count": 9,
   "id": "f78be7e5",
   "metadata": {},
   "outputs": [
    {
     "name": "stdout",
     "output_type": "stream",
     "text": [
      "10---20---30\n"
     ]
    }
   ],
   "source": [
    "a=10\n",
    "b=20\n",
    "c=30\n",
    "print(a,b,c,sep=\"---\")"
   ]
  },
  {
   "cell_type": "code",
   "execution_count": 10,
   "id": "777b1237",
   "metadata": {},
   "outputs": [
    {
     "name": "stdout",
     "output_type": "stream",
     "text": [
      "10\n",
      "20\n",
      "30\n"
     ]
    }
   ],
   "source": [
    "a=10\n",
    "b=20\n",
    "c=30\n",
    "print(a)\n",
    "print(b)\n",
    "print(c)"
   ]
  },
  {
   "cell_type": "code",
   "execution_count": 11,
   "id": "c60890bd",
   "metadata": {},
   "outputs": [
    {
     "name": "stdout",
     "output_type": "stream",
     "text": [
      "10*20**30***"
     ]
    }
   ],
   "source": [
    "a=10\n",
    "b=20\n",
    "c=30\n",
    "print(a,end=\"*\")\n",
    "print(b,end=\"**\")\n",
    "print(c,end=\"***\")"
   ]
  },
  {
   "cell_type": "code",
   "execution_count": 12,
   "id": "a0dddc6c",
   "metadata": {},
   "outputs": [
    {
     "name": "stdout",
     "output_type": "stream",
     "text": [
      "My first name is: Debarshi\n",
      "My last name is: Bhattacharyya\n",
      "My first name is Debarshi and my last name is Bhattacharyya\n"
     ]
    }
   ],
   "source": [
    "first_name = input(\"My first name is: \")\n",
    "last_name = input(\"My last name is: \")\n",
    "print(f'My first name is {first_name} and my last name is {last_name}')"
   ]
  },
  {
   "cell_type": "code",
   "execution_count": 13,
   "id": "d3bc8713",
   "metadata": {},
   "outputs": [
    {
     "name": "stdout",
     "output_type": "stream",
     "text": [
      "My first name is: Debarshi\n",
      "My last name is: Bhattacharyya\n",
      "My first name is Debarshi and my last name is Bhattacharyya\n"
     ]
    }
   ],
   "source": [
    "first_name = input(\"My first name is: \")\n",
    "last_name = input(\"My last name is: \")\n",
    "print(\"My first name is {} and my last name is {}\".format(first_name,last_name))"
   ]
  },
  {
   "cell_type": "code",
   "execution_count": 14,
   "id": "22a23406",
   "metadata": {},
   "outputs": [
    {
     "name": "stdout",
     "output_type": "stream",
     "text": [
      "Enter the first name of the person: Sam\n",
      "Enter the profession of the person: Doctor\n",
      "Sam is a good Doctor\n"
     ]
    }
   ],
   "source": [
    "name_of_person=input(\"Enter the first name of the person: \")\n",
    "profession_of_person = input(\"Enter the profession of the person: \")\n",
    "print(f'{name_of_person} is a good {profession_of_person}')"
   ]
  },
  {
   "cell_type": "code",
   "execution_count": 15,
   "id": "ede49da7",
   "metadata": {},
   "outputs": [
    {
     "name": "stdout",
     "output_type": "stream",
     "text": [
      "enter the first number : 10\n",
      "enter the second number : 20\n",
      "The first  number is 10 and the second number is 20\n"
     ]
    }
   ],
   "source": [
    "first_num=input(\"enter the first number : \")\n",
    "second_num=input(\"enter the second number : \")\n",
    "print(\"The first  number is {} and the second number is {}\".format(first_num,second_num))"
   ]
  },
  {
   "cell_type": "code",
   "execution_count": 17,
   "id": "2350f570",
   "metadata": {},
   "outputs": [
    {
     "name": "stdout",
     "output_type": "stream",
     "text": [
      "Enter 1st name: Samadrito\n",
      "Enter 2nd name: Bhattacharyya\n",
      "The first name is Samadrito and the last name is Bhattacharyya\n"
     ]
    }
   ],
   "source": [
    "f_name = input(\"Enter 1st name: \")\n",
    "l_name = input(\"Enter 2nd name: \")\n",
    "print(\"The first name is {} and the last name is {}\".format(f_name,l_name))"
   ]
  },
  {
   "cell_type": "code",
   "execution_count": 18,
   "id": "4137478d",
   "metadata": {},
   "outputs": [
    {
     "data": {
      "text/plain": [
       "'p'"
      ]
     },
     "execution_count": 18,
     "metadata": {},
     "output_type": "execute_result"
    }
   ],
   "source": [
    "a=\"python\"\n",
    "a[0]"
   ]
  },
  {
   "cell_type": "code",
   "execution_count": 19,
   "id": "96b4923d",
   "metadata": {},
   "outputs": [
    {
     "name": "stdout",
     "output_type": "stream",
     "text": [
      "y t h o n\n"
     ]
    }
   ],
   "source": [
    "print(a[1],a[2],a[3],a[4],a[5])"
   ]
  },
  {
   "cell_type": "code",
   "execution_count": 20,
   "id": "d87d30c4",
   "metadata": {},
   "outputs": [
    {
     "name": "stdout",
     "output_type": "stream",
     "text": [
      "n\n"
     ]
    }
   ],
   "source": [
    "print(a[-1])"
   ]
  },
  {
   "cell_type": "code",
   "execution_count": 21,
   "id": "3f08157b",
   "metadata": {},
   "outputs": [
    {
     "ename": "IndexError",
     "evalue": "string index out of range",
     "output_type": "error",
     "traceback": [
      "\u001b[0;31m---------------------------------------------------------------------------\u001b[0m",
      "\u001b[0;31mIndexError\u001b[0m                                Traceback (most recent call last)",
      "Cell \u001b[0;32mIn[21], line 1\u001b[0m\n\u001b[0;32m----> 1\u001b[0m a[\u001b[38;5;241m6\u001b[39m]\n",
      "\u001b[0;31mIndexError\u001b[0m: string index out of range"
     ]
    }
   ],
   "source": [
    "a[6]"
   ]
  },
  {
   "cell_type": "code",
   "execution_count": 22,
   "id": "f03d5423",
   "metadata": {},
   "outputs": [],
   "source": [
    "a=\"lionel messi\""
   ]
  },
  {
   "cell_type": "code",
   "execution_count": 23,
   "id": "444650ef",
   "metadata": {},
   "outputs": [
    {
     "data": {
      "text/plain": [
       "'lion'"
      ]
     },
     "execution_count": 23,
     "metadata": {},
     "output_type": "execute_result"
    }
   ],
   "source": [
    "#get lion as a substring\n",
    "a[0:4:]"
   ]
  },
  {
   "cell_type": "code",
   "execution_count": 24,
   "id": "25a35f73",
   "metadata": {},
   "outputs": [
    {
     "name": "stdout",
     "output_type": "stream",
     "text": [
      "lion\n"
     ]
    }
   ],
   "source": [
    "print(a[0:4:])"
   ]
  },
  {
   "cell_type": "code",
   "execution_count": 25,
   "id": "0a0e48f9",
   "metadata": {},
   "outputs": [
    {
     "name": "stdout",
     "output_type": "stream",
     "text": [
      "messi\n",
      "messi\n",
      "messi\n"
     ]
    }
   ],
   "source": [
    "#get messi as a substring\n",
    "print(a[7:12:])\n",
    "print(a[7:12:1])\n",
    "print(a[7::])"
   ]
  },
  {
   "cell_type": "code",
   "execution_count": 26,
   "id": "23a15071",
   "metadata": {},
   "outputs": [
    {
     "name": "stdout",
     "output_type": "stream",
     "text": [
      "messi\n"
     ]
    }
   ],
   "source": [
    "print(a[7:12:])"
   ]
  },
  {
   "cell_type": "code",
   "execution_count": 27,
   "id": "3799a0c9",
   "metadata": {},
   "outputs": [
    {
     "name": "stdout",
     "output_type": "stream",
     "text": [
      "messi\n"
     ]
    }
   ],
   "source": [
    "print(a[7::])"
   ]
  },
  {
   "cell_type": "code",
   "execution_count": 29,
   "id": "33ab7a22",
   "metadata": {},
   "outputs": [
    {
     "name": "stdout",
     "output_type": "stream",
     "text": [
      "messi\n",
      "lion\n"
     ]
    }
   ],
   "source": [
    "#extract lion and messi using negative index\n",
    "#to get messi\n",
    "print(a[-5::1])\n",
    "\n",
    "#to get lion\n",
    "print(a[-12:-8:1])"
   ]
  },
  {
   "cell_type": "code",
   "execution_count": 30,
   "id": "471ffa9d",
   "metadata": {},
   "outputs": [
    {
     "name": "stdout",
     "output_type": "stream",
     "text": [
      "ssem\n",
      "ssem\n"
     ]
    }
   ],
   "source": [
    "#get substring ssem\n",
    "#1st way\n",
    "print(a[10:6:-1])\n",
    "#2nd way\n",
    "print(a[-2:-6:-1])"
   ]
  },
  {
   "cell_type": "code",
   "execution_count": 31,
   "id": "210d227c",
   "metadata": {},
   "outputs": [
    {
     "name": "stdout",
     "output_type": "stream",
     "text": [
      "leno\n",
      "leno\n"
     ]
    }
   ],
   "source": [
    "#get substring leno\n",
    "print(a[5:1:-1])\n",
    "print(a[-7:-11:-1])"
   ]
  },
  {
   "cell_type": "code",
   "execution_count": 32,
   "id": "33acb001",
   "metadata": {},
   "outputs": [
    {
     "name": "stdout",
     "output_type": "stream",
     "text": [
      "mess\n",
      "mess\n"
     ]
    }
   ],
   "source": [
    "#get substring mess\n",
    "print(a[7:11:])\n",
    "print(a[-5:-1:1])"
   ]
  },
  {
   "cell_type": "code",
   "execution_count": 33,
   "id": "19c00824",
   "metadata": {},
   "outputs": [
    {
     "name": "stdout",
     "output_type": "stream",
     "text": [
      "mess\n",
      "mess\n"
     ]
    }
   ],
   "source": [
    "#some other ways to get \"mess\" with mix and match of positive and negative indices\n",
    "print(a[7:-1:1])\n",
    "print(a[7:-1:])"
   ]
  },
  {
   "cell_type": "code",
   "execution_count": 34,
   "id": "cbbe3189",
   "metadata": {},
   "outputs": [
    {
     "data": {
      "text/plain": [
       "'nohtyp'"
      ]
     },
     "execution_count": 34,
     "metadata": {},
     "output_type": "execute_result"
    }
   ],
   "source": [
    "#reverse the string\n",
    "str1 = \"python\"\n",
    "str1[::-1]"
   ]
  },
  {
   "cell_type": "code",
   "execution_count": 35,
   "id": "208acde6",
   "metadata": {},
   "outputs": [
    {
     "data": {
      "text/plain": [
       "'issem lenoil'"
      ]
     },
     "execution_count": 35,
     "metadata": {},
     "output_type": "execute_result"
    }
   ],
   "source": [
    "str2 = \"lionel messi\"\n",
    "str2[::-1]"
   ]
  },
  {
   "cell_type": "code",
   "execution_count": 36,
   "id": "b3206e35",
   "metadata": {},
   "outputs": [
    {
     "name": "stdout",
     "output_type": "stream",
     "text": [
      "12\n",
      "6\n"
     ]
    }
   ],
   "source": [
    "#get the length of the string\n",
    "str1 = \"lionel messi\"\n",
    "print(len(str1))\n",
    "\n",
    "str2 = \"python\"\n",
    "print(len(str2))"
   ]
  },
  {
   "cell_type": "code",
   "execution_count": 37,
   "id": "2cbda95a",
   "metadata": {},
   "outputs": [
    {
     "name": "stdout",
     "output_type": "stream",
     "text": [
      "python\n"
     ]
    },
    {
     "ename": "TypeError",
     "evalue": "'str' object does not support item assignment",
     "output_type": "error",
     "traceback": [
      "\u001b[0;31m---------------------------------------------------------------------------\u001b[0m",
      "\u001b[0;31mTypeError\u001b[0m                                 Traceback (most recent call last)",
      "Cell \u001b[0;32mIn[37], line 5\u001b[0m\n\u001b[1;32m      3\u001b[0m \u001b[38;5;28mprint\u001b[39m(str1[\u001b[38;5;241m10\u001b[39m:\u001b[38;5;241m16\u001b[39m:])\n\u001b[1;32m      4\u001b[0m \u001b[38;5;66;03m#now I try to assign some value to the part of the string, but I will get error\u001b[39;00m\n\u001b[0;32m----> 5\u001b[0m str1[\u001b[38;5;241m10\u001b[39m:\u001b[38;5;241m16\u001b[39m:] \u001b[38;5;241m=\u001b[39m \u001b[38;5;124m'\u001b[39m\u001b[38;5;124mjava\u001b[39m\u001b[38;5;124m'\u001b[39m\n",
      "\u001b[0;31mTypeError\u001b[0m: 'str' object does not support item assignment"
     ]
    }
   ],
   "source": [
    "#Prove string is immutable\n",
    "str1 = \"This is a python program\"\n",
    "print(str1[10:16:])\n",
    "#now I try to assign some value to the part of the string, but I will get error\n",
    "str1[10:16:] = 'java'"
   ]
  },
  {
   "cell_type": "code",
   "execution_count": 38,
   "id": "5c64bf1e",
   "metadata": {},
   "outputs": [
    {
     "data": {
      "text/plain": [
       "4440836096"
      ]
     },
     "execution_count": 38,
     "metadata": {},
     "output_type": "execute_result"
    }
   ],
   "source": [
    "id(str1)"
   ]
  },
  {
   "cell_type": "code",
   "execution_count": 39,
   "id": "2b5df6d8",
   "metadata": {},
   "outputs": [
    {
     "data": {
      "text/plain": [
       "4457179312"
      ]
     },
     "execution_count": 39,
     "metadata": {},
     "output_type": "execute_result"
    }
   ],
   "source": [
    "str1 = \"hgsjhsad\"\n",
    "id(str1)"
   ]
  },
  {
   "cell_type": "code",
   "execution_count": 40,
   "id": "ed8f949b",
   "metadata": {},
   "outputs": [
    {
     "name": "stdout",
     "output_type": "stream",
     "text": [
      "We are learning python\n"
     ]
    }
   ],
   "source": [
    "#String concatenation\n",
    "str1 = \"We are learning \"\n",
    "str2 = \"python\"\n",
    "str3 = str1+str2\n",
    "print(str3)"
   ]
  },
  {
   "cell_type": "code",
   "execution_count": 41,
   "id": "3a30b1b7",
   "metadata": {},
   "outputs": [
    {
     "name": "stdout",
     "output_type": "stream",
     "text": [
      "Hello Hello Hello \n"
     ]
    }
   ],
   "source": [
    "#String repeatition\n",
    "str1 = \"Hello \"\n",
    "print(str1*3)"
   ]
  },
  {
   "cell_type": "code",
   "execution_count": 42,
   "id": "ebaaa91e",
   "metadata": {},
   "outputs": [
    {
     "name": "stdout",
     "output_type": "stream",
     "text": [
      "True\n",
      "True\n",
      "False\n",
      "False\n"
     ]
    }
   ],
   "source": [
    "#Membership operation\n",
    "\n",
    "strr = \"We are learning Python and we are enjoying it\"\n",
    "print(\"Python\" in strr)\n",
    "print(\"sdsdsdf\" not in strr)\n",
    "print(\"are \" not in strr)\n",
    "print(\"Java\" in strr)"
   ]
  },
  {
   "cell_type": "code",
   "execution_count": 43,
   "id": "e2207fa9",
   "metadata": {},
   "outputs": [
    {
     "name": "stdout",
     "output_type": "stream",
     "text": [
      "It is True that Python is a very interesting language\n"
     ]
    }
   ],
   "source": [
    "#Do some membership opration program\n",
    "str1 = \"Python is a very interesting language\"\n",
    "bool_val_to_str = str(\"Python\" in str1)\n",
    "print(f\"It is {bool_val_to_str} that {str1}\")"
   ]
  },
  {
   "cell_type": "code",
   "execution_count": 44,
   "id": "19ebf6cd",
   "metadata": {},
   "outputs": [
    {
     "name": "stdout",
     "output_type": "stream",
     "text": [
      "4390911080\n",
      "4390911080\n",
      "True\n",
      "False\n"
     ]
    }
   ],
   "source": [
    "#Identity operation\n",
    "a = \"Python\"\n",
    "b = \"Python\"\n",
    "print(id(a))\n",
    "print(id(b))\n",
    "print(a is b)\n",
    "print(a is not b)"
   ]
  },
  {
   "cell_type": "code",
   "execution_count": 45,
   "id": "c7c99d20",
   "metadata": {},
   "outputs": [
    {
     "name": "stdout",
     "output_type": "stream",
     "text": [
      "True\n",
      "True\n"
     ]
    }
   ],
   "source": [
    "#Perform some more identity operation\n",
    "print(a[0] is b[0])\n",
    "print(a[0] is not b[1])"
   ]
  },
  {
   "cell_type": "code",
   "execution_count": 46,
   "id": "13a4b6fc",
   "metadata": {},
   "outputs": [
    {
     "data": {
      "text/plain": [
       "'HELLO'"
      ]
     },
     "execution_count": 46,
     "metadata": {},
     "output_type": "execute_result"
    }
   ],
   "source": [
    "#String methods\n",
    "\n",
    "str1 = \"hello\"\n",
    "str1.upper()"
   ]
  },
  {
   "cell_type": "code",
   "execution_count": 47,
   "id": "4989711e",
   "metadata": {},
   "outputs": [
    {
     "data": {
      "text/plain": [
       "'hello'"
      ]
     },
     "execution_count": 47,
     "metadata": {},
     "output_type": "execute_result"
    }
   ],
   "source": [
    "str1 = \"HELLO\"\n",
    "str1.lower()"
   ]
  },
  {
   "cell_type": "code",
   "execution_count": 48,
   "id": "c2998412",
   "metadata": {},
   "outputs": [
    {
     "data": {
      "text/plain": [
       "'hELLO'"
      ]
     },
     "execution_count": 48,
     "metadata": {},
     "output_type": "execute_result"
    }
   ],
   "source": [
    "str1 = \"Hello\"\n",
    "str1.swapcase()"
   ]
  },
  {
   "cell_type": "code",
   "execution_count": 49,
   "id": "b8a6523e",
   "metadata": {},
   "outputs": [
    {
     "data": {
      "text/plain": [
       "'mittlestädt'"
      ]
     },
     "execution_count": 49,
     "metadata": {},
     "output_type": "execute_result"
    }
   ],
   "source": [
    "str1 = \"MITTLESTÄDT\"\n",
    "str1.casefold()"
   ]
  },
  {
   "cell_type": "code",
   "execution_count": 50,
   "id": "6e59becc",
   "metadata": {},
   "outputs": [
    {
     "data": {
      "text/plain": [
       "'Python is a great language to learn'"
      ]
     },
     "execution_count": 50,
     "metadata": {},
     "output_type": "execute_result"
    }
   ],
   "source": [
    "str1 = \"python is a great language to learn\"\n",
    "str1.capitalize()"
   ]
  },
  {
   "cell_type": "code",
   "execution_count": 51,
   "id": "ffe6a869",
   "metadata": {},
   "outputs": [
    {
     "data": {
      "text/plain": [
       "'Python Is A Great Language To Learn'"
      ]
     },
     "execution_count": 51,
     "metadata": {},
     "output_type": "execute_result"
    }
   ],
   "source": [
    "str1 = \"python is a great language to learn\"\n",
    "str1.title()"
   ]
  },
  {
   "cell_type": "code",
   "execution_count": 52,
   "id": "05fab98f",
   "metadata": {},
   "outputs": [
    {
     "name": "stdout",
     "output_type": "stream",
     "text": [
      "False\n",
      "True\n"
     ]
    }
   ],
   "source": [
    "str1 = \"Igloo\"\n",
    "print(str1.startswith(\"T\"))\n",
    "print(str1.startswith(\"I\"))"
   ]
  },
  {
   "cell_type": "code",
   "execution_count": 53,
   "id": "89e9de11",
   "metadata": {},
   "outputs": [
    {
     "name": "stdout",
     "output_type": "stream",
     "text": [
      "True\n",
      "False\n"
     ]
    }
   ],
   "source": [
    "str1 = \"Java\"\n",
    "print(str1.endswith(\"a\"))\n",
    "print(str1.endswith(\"J\"))"
   ]
  },
  {
   "cell_type": "code",
   "execution_count": 54,
   "id": "f9b68db9",
   "metadata": {},
   "outputs": [
    {
     "name": "stdout",
     "output_type": "stream",
     "text": [
      "True\n",
      "True\n",
      "True\n",
      "False\n"
     ]
    }
   ],
   "source": [
    "#How to check if a string contains either alphabet or number or both\n",
    "\n",
    "#isalnum() is the fucntion for that\n",
    "\n",
    "str1 = \"Python123\"\n",
    "print(str1.isalnum())#True\n",
    "\n",
    "str2 = \"123\"\n",
    "print(str2.isalnum())#True\n",
    "\n",
    "str3 = \"asdddsd\"\n",
    "print(str3.isalnum())#True\n",
    "\n",
    "str4 = \"abc@123\"\n",
    "print(str4.isalnum())#False"
   ]
  },
  {
   "cell_type": "code",
   "execution_count": 55,
   "id": "64931a59",
   "metadata": {},
   "outputs": [
    {
     "name": "stdout",
     "output_type": "stream",
     "text": [
      "False\n",
      "True\n",
      "False\n",
      "False\n"
     ]
    }
   ],
   "source": [
    "#isalpha() function\n",
    "str1 = \"1234\"\n",
    "str2 = \"abc\"\n",
    "str3 = \"a123\"\n",
    "str4 = \"abc#$\"\n",
    "print(str1.isalpha())\n",
    "print(str2.isalpha())\n",
    "print(str3.isalpha())\n",
    "print(str4.isalpha())"
   ]
  },
  {
   "cell_type": "code",
   "execution_count": 56,
   "id": "811d5381",
   "metadata": {},
   "outputs": [
    {
     "name": "stdout",
     "output_type": "stream",
     "text": [
      "True\n",
      "False\n",
      "False\n",
      "False\n"
     ]
    }
   ],
   "source": [
    "#isnumeric function\n",
    "str1 = \"1234\"\n",
    "str2 = \"abc@1234\"\n",
    "str3 = \"a123\"\n",
    "str4 = \"123@\"\n",
    "print(str1.isnumeric())\n",
    "print(str2.isnumeric())\n",
    "print(str3.isnumeric())\n",
    "print(str4.isnumeric())"
   ]
  },
  {
   "cell_type": "code",
   "execution_count": 57,
   "id": "a6b0de7f",
   "metadata": {},
   "outputs": [
    {
     "name": "stdout",
     "output_type": "stream",
     "text": [
      "True\n",
      "False\n",
      "False\n",
      "False\n",
      "True\n"
     ]
    }
   ],
   "source": [
    "#isidentifier\n",
    "str1 = \"abc\"\n",
    "str2 = \"123abc\"\n",
    "str3 = \"%%\"\n",
    "str4 = \"125\"\n",
    "str5 = \"_123\"\n",
    "\n",
    "print(str1.isidentifier())\n",
    "print(str2.isidentifier())\n",
    "print(str3.isidentifier())\n",
    "print(str4.isidentifier())\n",
    "print(str5.isidentifier())"
   ]
  },
  {
   "cell_type": "code",
   "execution_count": 58,
   "id": "3643e7bd",
   "metadata": {},
   "outputs": [
    {
     "name": "stdout",
     "output_type": "stream",
     "text": [
      "True\n",
      "True\n",
      "True\n",
      "True\n",
      "False\n",
      "65\n",
      "97\n",
      "A\n",
      "Z\n",
      "a\n",
      "z\n"
     ]
    }
   ],
   "source": [
    "#isascii, ord, chr\n",
    "\n",
    "str1 = \"abc\"\n",
    "str2 = \"123abc\"\n",
    "str3 = \"%%\"\n",
    "str4 = \"125\"\n",
    "str5 = \"ßaâ\"\n",
    "\n",
    "print(str1.isascii())\n",
    "print(str2.isascii())\n",
    "print(str3.isascii())\n",
    "print(str4.isascii())\n",
    "print(str5.isascii())\n",
    "\n",
    "#ord - it converts charcater to ASCII values\n",
    "print(ord('A'))\n",
    "print(ord('a'))\n",
    "\n",
    "#chr - it converts ASCII values to characters\n",
    "print(chr(65))\n",
    "print(chr(90))\n",
    "print(chr(97))\n",
    "print(chr(122))"
   ]
  },
  {
   "cell_type": "code",
   "execution_count": 59,
   "id": "b034d8c8",
   "metadata": {},
   "outputs": [
    {
     "name": "stdout",
     "output_type": "stream",
     "text": [
      "True\n",
      "False\n",
      "False\n"
     ]
    }
   ],
   "source": [
    "#isupper - True if all chars are in uppercase\n",
    "str1 = \"ABC\"\n",
    "str2 = \"AbC\"\n",
    "str3 = \"abc\"\n",
    "\n",
    "print(str1.isupper())\n",
    "print(str2.isupper())\n",
    "print(str3.isupper())"
   ]
  },
  {
   "cell_type": "code",
   "execution_count": 60,
   "id": "4fdc5484",
   "metadata": {},
   "outputs": [
    {
     "name": "stdout",
     "output_type": "stream",
     "text": [
      "False\n",
      "False\n",
      "True\n"
     ]
    }
   ],
   "source": [
    "#islower - True if all chars are in lowercase\n",
    "str1 = \"ABC\"\n",
    "str2 = \"AbC\"\n",
    "str3 = \"abc\"\n",
    "\n",
    "print(str1.islower())\n",
    "print(str2.islower())\n",
    "print(str3.islower())"
   ]
  },
  {
   "cell_type": "code",
   "execution_count": 61,
   "id": "d3c4f65a",
   "metadata": {},
   "outputs": [
    {
     "name": "stdout",
     "output_type": "stream",
     "text": [
      "True\n",
      "False\n",
      "False\n"
     ]
    }
   ],
   "source": [
    "#istitle() - True if all words are having 1st letter in Uppercase/in one word- all words are in Title case in a sentence\n",
    "str1 = \"Hello World\"\n",
    "str2 = \"Samadrito is A Good Boy\"\n",
    "str3 = \"I am learning Python\"\n",
    "\n",
    "print(str1.istitle())\n",
    "print(str2.istitle())\n",
    "print(str3.istitle())"
   ]
  },
  {
   "cell_type": "code",
   "execution_count": 62,
   "id": "9c7877c8",
   "metadata": {},
   "outputs": [
    {
     "name": "stdout",
     "output_type": "stream",
     "text": [
      "Hello\n",
      "World\n",
      "########Pablo Picasso\n",
      "    Heisenberg\n",
      "Pablo Picasso########\n",
      "Heisenberg \n"
     ]
    }
   ],
   "source": [
    "#strip, #lstrip, #rstrip\n",
    "\n",
    "#strip - It basically removes spaces or mentioned characters in input from both sides\n",
    "str1 = \"     Hello     \"\n",
    "print(str1.strip())\n",
    "\n",
    "#In case of strip function we can also remove other characters by specifying them as input\n",
    "str2 = \"*********World*****\"\n",
    "print(str2.strip(\"*\"))\n",
    "\n",
    "#rstrip - it will remove unnecessary spaces or characters in the right side\n",
    "str3 = \"########Pablo Picasso########\"\n",
    "print(str3.rstrip(\"#\"))\n",
    "\n",
    "str4 = \"    Heisenberg     \"\n",
    "print(str4.rstrip())\n",
    "\n",
    "\n",
    "#lstrip - it will remove unnecessary spaces or characters in the right side\n",
    "str5 = \"########Pablo Picasso########\"\n",
    "print(str5.lstrip(\"#\"))\n",
    "\n",
    "str6 = \"    Heisenberg \"\n",
    "print(str6.lstrip())"
   ]
  },
  {
   "cell_type": "code",
   "execution_count": 112,
   "id": "da25ae05",
   "metadata": {},
   "outputs": [
    {
     "name": "stdout",
     "output_type": "stream",
     "text": [
      "9\n",
      "0\n",
      "-1\n",
      "23\n",
      "-1\n"
     ]
    }
   ],
   "source": [
    "#find - gives us index of the 1st occurrence of the character or a string we are searching\n",
    "# it searches from left to right\n",
    "# Syntax:  str.find(sub, start, end)\n",
    "\n",
    "# Parameters: \n",
    "# sub: Substring that needs to be searched in the given string. \n",
    "# start (optional): Starting position where the substring needs to be checked within the string. \n",
    "# end (optional): The end position is the index of the last value for the specified range. It is excluded while checking. \n",
    "# Note: If start and end indexes are not provided then, by default it takes 0 and length-1 as starting and ending indexes where ending indexes are not included in our search.    \n",
    "# Return:  Returns the lowest index of the substring if it is found in a given string. If it’s not found then it returns -1.    \n",
    "\n",
    "str1 = \"Debarshi loves to play cricket\"\n",
    "print(str1.find(\"l\"))#9\n",
    "\n",
    "str2 = \"lDebarshi loves to play football\"\n",
    "print(str2.find(\"l\"))#0\n",
    "\n",
    "#try to find something that is not present\n",
    "str3 = \"Debarshi loves to play cricket\"\n",
    "print(str3.find(\"f\"))#-1, f not present in str3 , doesn't throw error\n",
    "print(str3.find(\"cricket\"))#23\n",
    "print(str3.find(\"football\"))#-1, football not present in str3, , doesn't throw error"
   ]
  },
  {
   "cell_type": "code",
   "execution_count": 63,
   "id": "4d126c15",
   "metadata": {},
   "outputs": [
    {
     "name": "stdout",
     "output_type": "stream",
     "text": [
      "12\n",
      "-1\n"
     ]
    },
    {
     "data": {
      "text/plain": [
       "(None,)"
      ]
     },
     "execution_count": 63,
     "metadata": {},
     "output_type": "execute_result"
    }
   ],
   "source": [
    "#rfind - it will give the index number of 1st occurrence of char or string from Right to left and returns +ve index\n",
    "# Syntax:  str.rfind(sub, start, end)\n",
    "\n",
    "# Parameters: \n",
    "\n",
    "# sub: It’s the substring that needs to be searched in the given string. \n",
    "# start: Starting position where the sub needs to be checked within the string. \n",
    "# end: Ending position where suffix needs to be checked within the string. \n",
    "# Note: If start and end indexes are not provided then, by default it takes 0 and length-1 as starting and ending indexes where ending indexes are not included in our search.\n",
    "\n",
    "# Return:  Returns the right-most index of the substring if it is found in the given string; if not found, then it returns -1.\n",
    "\n",
    "str1 = \"Felix loves Football\"\n",
    "print(str1.rfind(\"F\"))#12--returns positive index, returning the index of F in Football, not Felix as search is from R->L\n",
    "print(str1.rfind(\"Cricket\")), #-1, returns -1, as Cricket is not present"
   ]
  },
  {
   "cell_type": "code",
   "execution_count": 64,
   "id": "b266a045",
   "metadata": {},
   "outputs": [
    {
     "name": "stdout",
     "output_type": "stream",
     "text": [
      "12\n",
      "12\n"
     ]
    },
    {
     "ename": "ValueError",
     "evalue": "substring not found",
     "output_type": "error",
     "traceback": [
      "\u001b[0;31m---------------------------------------------------------------------------\u001b[0m",
      "\u001b[0;31mValueError\u001b[0m                                Traceback (most recent call last)",
      "Cell \u001b[0;32mIn[64], line 6\u001b[0m\n\u001b[1;32m      4\u001b[0m \u001b[38;5;28mprint\u001b[39m(str1\u001b[38;5;241m.\u001b[39mindex(\u001b[38;5;124m\"\u001b[39m\u001b[38;5;124mf\u001b[39m\u001b[38;5;124m\"\u001b[39m))\u001b[38;5;66;03m#12\u001b[39;00m\n\u001b[1;32m      5\u001b[0m \u001b[38;5;28mprint\u001b[39m(str1\u001b[38;5;241m.\u001b[39mindex(\u001b[38;5;124m\"\u001b[39m\u001b[38;5;124mfootball\u001b[39m\u001b[38;5;124m\"\u001b[39m))\u001b[38;5;66;03m#12\u001b[39;00m\n\u001b[0;32m----> 6\u001b[0m \u001b[38;5;28mprint\u001b[39m(str1\u001b[38;5;241m.\u001b[39mindex(\u001b[38;5;124m\"\u001b[39m\u001b[38;5;124mcricket\u001b[39m\u001b[38;5;124m\"\u001b[39m))\n",
      "\u001b[0;31mValueError\u001b[0m: substring not found"
     ]
    }
   ],
   "source": [
    "#index - is almost same as find- it also returns the index number of a char or string, searching from left to right\n",
    "#but if any char or string is not found error is thrown\n",
    "str1 = \"Usman loves football\"\n",
    "print(str1.index(\"f\"))#12\n",
    "print(str1.index(\"football\"))#12\n",
    "print(str1.index(\"cricket\"))#ValueError: substring not found"
   ]
  },
  {
   "cell_type": "code",
   "execution_count": 65,
   "id": "87a4a3f6",
   "metadata": {},
   "outputs": [
    {
     "name": "stdout",
     "output_type": "stream",
     "text": [
      "19\n",
      "18\n"
     ]
    },
    {
     "ename": "ValueError",
     "evalue": "substring not found",
     "output_type": "error",
     "traceback": [
      "\u001b[0;31m---------------------------------------------------------------------------\u001b[0m",
      "\u001b[0;31mValueError\u001b[0m                                Traceback (most recent call last)",
      "Cell \u001b[0;32mIn[65], line 6\u001b[0m\n\u001b[1;32m      4\u001b[0m \u001b[38;5;28mprint\u001b[39m(str1\u001b[38;5;241m.\u001b[39mrindex(\u001b[38;5;124m\"\u001b[39m\u001b[38;5;124ml\u001b[39m\u001b[38;5;124m\"\u001b[39m))\u001b[38;5;66;03m#19-index of the last l in football\u001b[39;00m\n\u001b[1;32m      5\u001b[0m \u001b[38;5;28mprint\u001b[39m(str1\u001b[38;5;241m.\u001b[39mrindex(\u001b[38;5;124m\"\u001b[39m\u001b[38;5;124mll\u001b[39m\u001b[38;5;124m\"\u001b[39m))\u001b[38;5;66;03m#18-index of the 2nd last l in football\u001b[39;00m\n\u001b[0;32m----> 6\u001b[0m \u001b[38;5;28mprint\u001b[39m(str1\u001b[38;5;241m.\u001b[39mindex(\u001b[38;5;124m\"\u001b[39m\u001b[38;5;124mcricket\u001b[39m\u001b[38;5;124m\"\u001b[39m))\n",
      "\u001b[0;31mValueError\u001b[0m: substring not found"
     ]
    }
   ],
   "source": [
    "#rindex - it will give the positive index number of 1st occurrence of spcified character from right to left\n",
    "#but if any char or string is not found error is thrown\n",
    "str1 = \"Usman loves football\"\n",
    "print(str1.rindex(\"l\"))#19-index of the last l in football\n",
    "print(str1.rindex(\"ll\"))#18-index of the 2nd last l in football\n",
    "print(str1.index(\"cricket\"))#ValueError: substring not found"
   ]
  },
  {
   "cell_type": "code",
   "execution_count": 66,
   "id": "e9be9c5a",
   "metadata": {},
   "outputs": [
    {
     "name": "stdout",
     "output_type": "stream",
     "text": [
      "Usman                         \n",
      "Usman*************************\n"
     ]
    }
   ],
   "source": [
    "#ljust - left adjustment - input string will be at left - and at right chars will be added\n",
    "\n",
    "txt = \"Usman\"\n",
    "print(txt.ljust(30))\n",
    "print(txt.ljust(30,\"*\"))"
   ]
  },
  {
   "cell_type": "code",
   "execution_count": 67,
   "id": "59791b7a",
   "metadata": {},
   "outputs": [
    {
     "name": "stdout",
     "output_type": "stream",
     "text": [
      "                      Debarshi\n",
      "&&&&&&&&&&&&&&&&&&&&&&Debarshi\n"
     ]
    }
   ],
   "source": [
    "#rjust - right adjustment - input string will be at right - and at left chars will be added\n",
    "txt = \"Debarshi\"\n",
    "print(txt.rjust(30))\n",
    "print(txt.rjust(30,\"&\"))"
   ]
  },
  {
   "cell_type": "code",
   "execution_count": 68,
   "id": "dbbeed83",
   "metadata": {},
   "outputs": [
    {
     "name": "stdout",
     "output_type": "stream",
     "text": [
      "Debarshi loves to play cricket\n"
     ]
    }
   ],
   "source": [
    "#replace - replace one string with another\n",
    "str1 = \"Debarshi loves to play football\"\n",
    "print(str1.replace(\"football\",\"cricket\"))"
   ]
  },
  {
   "cell_type": "code",
   "execution_count": 69,
   "id": "130e3cc0",
   "metadata": {},
   "outputs": [
    {
     "name": "stdout",
     "output_type": "stream",
     "text": [
      "2\n",
      "1\n"
     ]
    }
   ],
   "source": [
    "#count - it will give the count of a particular character or a substring in a string\n",
    "\n",
    "str1 = \"football\"\n",
    "print(str1.count(\"l\"))\n",
    "print(str1.count(\"ll\"))"
   ]
  },
  {
   "cell_type": "code",
   "execution_count": 70,
   "id": "bc44d28f",
   "metadata": {},
   "outputs": [
    {
     "name": "stdout",
     "output_type": "stream",
     "text": [
      "['Debarshi', 'loves', 'cricket']\n",
      "['deb.baguiati', 'gamil.com']\n",
      "['101', 'Deb', '20000']\n"
     ]
    }
   ],
   "source": [
    "#split - a very important method for data cleansing and transformation\n",
    "# it converts the string into a list\n",
    "str1 = \"Debarshi loves cricket\"\n",
    "lst = str1.split() #By default splitting character is space\n",
    "print(lst)\n",
    "\n",
    "str2 = \"deb.baguiati@gamil.com\"\n",
    "lst2 = str2.split(\"@\")\n",
    "print(lst2)\n",
    "\n",
    "str3 = \"101,Deb,20000\"\n",
    "lst3 = str3.split(\",\")\n",
    "print(lst3)"
   ]
  },
  {
   "cell_type": "code",
   "execution_count": 71,
   "id": "f4a00d92",
   "metadata": {
    "scrolled": true
   },
   "outputs": [
    {
     "name": "stdout",
     "output_type": "stream",
     "text": [
      "Debarshi loves cricket\n",
      "deb.baguiati@gamil.com\n",
      "101,Deb,20000\n",
      "h-e-l-l-o\n"
     ]
    },
    {
     "ename": "TypeError",
     "evalue": "sequence item 0: expected str instance, int found",
     "output_type": "error",
     "traceback": [
      "\u001b[0;31m---------------------------------------------------------------------------\u001b[0m",
      "\u001b[0;31mTypeError\u001b[0m                                 Traceback (most recent call last)",
      "Cell \u001b[0;32mIn[71], line 28\u001b[0m\n\u001b[1;32m     25\u001b[0m \u001b[38;5;28mprint\u001b[39m(str5)\n\u001b[1;32m     27\u001b[0m num_vals \u001b[38;5;241m=\u001b[39m [\u001b[38;5;241m1\u001b[39m,\u001b[38;5;241m2\u001b[39m,\u001b[38;5;241m3\u001b[39m,\u001b[38;5;241m4\u001b[39m,\u001b[38;5;241m5\u001b[39m]\n\u001b[0;32m---> 28\u001b[0m \u001b[38;5;124m\"\u001b[39m\u001b[38;5;124m*\u001b[39m\u001b[38;5;124m\"\u001b[39m\u001b[38;5;241m.\u001b[39mjoin(num_vals)\n",
      "\u001b[0;31mTypeError\u001b[0m: sequence item 0: expected str instance, int found"
     ]
    }
   ],
   "source": [
    "#join - it converts a list into a string\n",
    "# Syntax: separator_string.join(iterable)\n",
    "\n",
    "# Parameters:\n",
    "\n",
    "# Iterable – objects capable of returning their members one at a time. Some examples are List, Tuple, String, Dictionary, and Set\n",
    "# Return Value: The join() method returns a string concatenated with the elements of iterable.\n",
    "\n",
    "# Type Error: If the iterable contains any non-string values, it raises a TypeError exception.\n",
    "\n",
    "lst = ['Debarshi', 'loves', 'cricket']\n",
    "str1 = \" \".join(lst)\n",
    "print(str1)\n",
    "\n",
    "lst1 = ['deb.baguiati', 'gamil.com']\n",
    "str2 = \"@\".join(lst1)\n",
    "print(str2)\n",
    "\n",
    "lst2 = ['101', 'Deb', '20000']\n",
    "str3 = \",\".join(lst2)\n",
    "print(str3)\n",
    "\n",
    "str4 = \"hello\"\n",
    "str5 = \"-\".join(str4)\n",
    "print(str5)\n",
    "\n",
    "num_vals = [1,2,3,4,5]\n",
    "\"*\".join(num_vals)# Type Error: If the iterable contains any non-string values, it raises a TypeError exception."
   ]
  },
  {
   "cell_type": "code",
   "execution_count": 81,
   "id": "f920c167",
   "metadata": {},
   "outputs": [
    {
     "name": "stdout",
     "output_type": "stream",
     "text": [
      "Enter either a character or a number or something else: zs\n",
      "Alphabet\n"
     ]
    }
   ],
   "source": [
    "input_val = input(\"Enter either a character or a number or something else: \")\n",
    "if all(((char>='a' and char <= 'z') or (char>='A' and char <= 'B')) for char in input_val):\n",
    "    print(\"Alphabet\")\n",
    "elif (input_val.isnumeric() == True):\n",
    "    print(\"Number\")\n",
    "elif (ascii(' ')==ascii(input_val)):\n",
    "    print(\"Space\")\n",
    "else:\n",
    "    print(\"Special character\")\n",
    "\n",
    "# The Python all() function returns true if all the elements of a given iterable (List, Dictionary, Tuple, set, etc.)\n",
    "# are True otherwise it returns False. It also returns True if the iterable object is empty. \n",
    "# Sometimes while working on some code if we want to ensure that user has not entered a False value \n",
    "# then we use the all() function.\n",
    "\n",
    "# Syntax: all( iterable )\n",
    "\n",
    "# Iterable: It is an iterable object such as a dictionary,tuple,list,set,etc.\n",
    "# Returns: boolean"
   ]
  },
  {
   "cell_type": "code",
   "execution_count": null,
   "id": "98a500be",
   "metadata": {},
   "outputs": [],
   "source": []
  }
 ],
 "metadata": {
  "kernelspec": {
   "display_name": "Python 3 (ipykernel)",
   "language": "python",
   "name": "python3"
  },
  "language_info": {
   "codemirror_mode": {
    "name": "ipython",
    "version": 3
   },
   "file_extension": ".py",
   "mimetype": "text/x-python",
   "name": "python",
   "nbconvert_exporter": "python",
   "pygments_lexer": "ipython3",
   "version": "3.11.5"
  }
 },
 "nbformat": 4,
 "nbformat_minor": 5
}
